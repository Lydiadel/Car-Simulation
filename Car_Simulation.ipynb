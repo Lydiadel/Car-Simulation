{
 "cells": [
  {
   "cell_type": "code",
   "execution_count": null,
   "id": "c6c4f66a",
   "metadata": {},
   "outputs": [],
   "source": [
    "import agentpy as ap\n",
    "\n",
    "# To do product \n",
    "from itertools import product\n",
    "\n",
    "#Visualization\n",
    "import seaborn as sns\n",
    "import IPython \n",
    "import matplotlib.pyplot as plt \n",
    "import random"
   ]
  },
  {
   "cell_type": "code",
   "execution_count": null,
   "id": "8782b3cd",
   "metadata": {},
   "outputs": [],
   "source": [
    "\n",
    "\n",
    "POSITIONS_CARS = [(0,26), (0,27), (0,28), # Up\n",
    "             (49,23), (49,24), (49,25), # Down \n",
    "             (26, 0),(27, 0), (28,0), # Left\n",
    "             (23,49), (24,49), (25,49) # Right\n",
    "            ]\n",
    "\n",
    "DICT_MOVES = {\n",
    "    \"UP-DOWN\": {\"UP\": [(0,26), (0,27), (0,28)]}\n",
    "}"
   ]
  },
  {
   "cell_type": "code",
   "execution_count": null,
   "id": "7370b317",
   "metadata": {},
   "outputs": [],
   "source": [
    "class Car(ap.Agent):\n",
    "    def setup_pos(self, space):\n",
    "\n",
    "        self.space = space\n",
    "        self.neighbors = space.neighbors\n",
    "        self.pos = space.positions[self]\n",
    "\n",
    "\n",
    "class CarModel(ap.Model):\n",
    "    \n",
    "    def setup(self):\n",
    "        \n",
    "        #Create agents (cars)\n",
    "        n_cars = int(self.p['K'])\n",
    "        cars = self.agents = ap.AgentList(self, n_cars)\n",
    "        \n",
    "        # Create agents (streets)\n",
    "        #positions_streets = [(x,y) for x,y in product(range(50), range(23,29))] + \\\n",
    "        #                    [(x,y) for x,y in product(range(23,29), range(50))]\n",
    "        \n",
    "        #streets= self.agent_streets = ap.AgentList(self, len(positions_streets))\n",
    "        #streets.condition = 0\n",
    "        \n",
    "        # Create grid (street)\n",
    "        self.road = ap.Grid(self, (50, 50), track_empty = True)\n",
    "        # Add streets \n",
    "        #self.road.add_agents(streets, positions= positions_streets, empty= True)\n",
    "        \n",
    "        # Add cars\n",
    "        #self.road.add_agents(cars, positions = random.choices(POSITIONS_CARS, k= n_cars), empty = True)\n",
    "        self.road.add_agents(cars, positions = (POSITIONS_CARS))\n",
    "        #self.agents.setup_pos(self.road)\n",
    "        self.agents.condition = 1\n",
    "        \n",
    "     #   self.agent_streets.condition = 0\n",
    "    \n",
    "    def step(self):\n",
    "        \n",
    "        #if self.agents \n",
    "        #if self.agents.condition ==\n",
    "        #if self.agents.condition==1 in DICT_MOVES[\"UP-DOWN\"][\"UP\"]:\n",
    "        #    print (\"Hello\")\n",
    "            \n",
    "        \n",
    "        self.stop()\n",
    "        \n",
    "    "
   ]
  },
  {
   "cell_type": "code",
   "execution_count": null,
   "id": "b527b3ef",
   "metadata": {},
   "outputs": [],
   "source": [
    "parameters = {\n",
    "    'K': 12\n",
    "    \n",
    "    \n",
    "}"
   ]
  },
  {
   "cell_type": "code",
   "execution_count": null,
   "id": "59451533",
   "metadata": {
    "scrolled": false
   },
   "outputs": [],
   "source": [
    "def animation_plot(model, ax):\n",
    "    attr_grid = model.road.attr_grid('condition')\n",
    "    color_dict = {0: '#B1B1B1', 1: \"#ff0000\",  None:'#d5e5d5'}\n",
    "    ap.gridplot(attr_grid, ax=ax, color_dict = color_dict, convert = True)\n",
    "    ax.set_title(f\"Car simulation\\n\")\n",
    "    \n",
    "\n",
    "px = 1/plt.rcParams['figure.dpi']\n",
    "#fig, ax = plt.subplots()\n",
    "fig, ax = plt.subplots(figsize=(650*px, 650*px))\n",
    "model = CarModel(parameters)\n",
    "animation = ap.animate(model, fig, ax, animation_plot)\n",
    "IPython.display.HTML(animation.to_jshtml(fps=15))"
   ]
  },
  {
   "cell_type": "code",
   "execution_count": null,
   "id": "999aa925",
   "metadata": {},
   "outputs": [],
   "source": []
  },
  {
   "cell_type": "code",
   "execution_count": null,
   "id": "af9750f3",
   "metadata": {},
   "outputs": [],
   "source": []
  }
 ],
 "metadata": {
  "kernelspec": {
   "display_name": "PythonData",
   "language": "python",
   "name": "pythondata"
  },
  "language_info": {
   "codemirror_mode": {
    "name": "ipython",
    "version": 3
   },
   "file_extension": ".py",
   "mimetype": "text/x-python",
   "name": "python",
   "nbconvert_exporter": "python",
   "pygments_lexer": "ipython3",
   "version": "3.7.13"
  }
 },
 "nbformat": 4,
 "nbformat_minor": 5
}
